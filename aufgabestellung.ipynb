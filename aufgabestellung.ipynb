{
 "cells": [
  {
   "cell_type": "markdown",
   "metadata": {},
   "source": [
    "# Multiprocessing anhand von Parallelausführung von Funktionen\n",
    "gestellt von Dr. Lauer-Baré für Kurs DSC19, Fortgeschrittene Programmierung, 2020"
   ]
  },
  {
   "cell_type": "markdown",
   "metadata": {},
   "source": [
    "* Zeigen Sie wie viel Zeit dadurch gespart werden kann, dass Funktionen parallel ausgeführt werden, statt die gleiche Funktion mehrfach  hintereinander mit verschiedenen Parametern auszuführen\n",
    "\n",
    "* Jupyter Notebooks können bei solchen Experimenten Probleme aufweisen, verwenden Sie hier besser eine Entwicklungsumgebung wie Spyder, Eclipse, etc.\n",
    "\n",
    "* Verwenden Sie als Testbeispiel ausser Minimalbeispielen, auch Funktionen die ca. 4-5 Sekunden (oder länger) pro Ausführung brauchen. Falls Ihnen keine Funktion, die etwas länger bei der Ausführung dauert, sagen Sie Bescheid, eine Funktion z.B. waere die Trainingsfunktion des neuronalen Netzes aus dem Motivationskapitel (MLPclassifier)"
   ]
  },
  {
   "cell_type": "markdown",
   "metadata": {},
   "source": [
    "Stichwörter: timeit, timer, multiprocessing, Pool"
   ]
  },
  {
   "cell_type": "markdown",
   "metadata": {},
   "source": [
    "Quellen: \n",
    "    \n",
    "* [multprocessing](https://docs.python.org/3.5/library/multiprocessing.html), multiprocessing Dokumentation\n",
    "\n",
    "* [numpy](https://numpy.org/), Numpy Dokumentation"
   ]
  },
  {
   "cell_type": "code",
   "execution_count": null,
   "metadata": {},
   "outputs": [],
   "source": []
  }
 ],
 "metadata": {
  "kernelspec": {
   "display_name": "Python 3",
   "language": "python",
   "name": "python3"
  },
  "language_info": {
   "codemirror_mode": {
    "name": "ipython",
    "version": 3
   },
   "file_extension": ".py",
   "mimetype": "text/x-python",
   "name": "python",
   "nbconvert_exporter": "python",
   "pygments_lexer": "ipython3",
   "version": "3.7.3"
  }
 },
 "nbformat": 4,
 "nbformat_minor": 2
}
